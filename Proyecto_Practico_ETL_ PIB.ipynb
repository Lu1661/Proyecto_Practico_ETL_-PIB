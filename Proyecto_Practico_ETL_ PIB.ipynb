{
 "cells": [
  {
   "cell_type": "markdown",
   "id": "6d3e2848-46ed-420f-a5ba-d2f4562a555e",
   "metadata": {},
   "source": [
    "*LIBRERIAS, VARIABLES Y FUNCIONES*"
   ]
  },
  {
   "cell_type": "code",
   "execution_count": 43,
   "id": "47725248-b6ac-45b0-9a2d-c362057a8c78",
   "metadata": {},
   "outputs": [],
   "source": [
    "import requests\n",
    "from bs4 import BeautifulSoup\n",
    "import pandas as pd\n",
    "import sqlite3\n",
    "import numpy as np\n",
    "from datetime import datetime \n",
    "\n",
    "url = 'https://web.archive.org/web/20230908091635/https://en.wikipedia.org/wiki/List_of_largest_banks'\n",
    "table_attribs = [\"Name\", \"MC_USD_Billion\"]\n",
    "final_table_attribs = [\"Name\", \"MC_USD_Billion\", \"MC_GBP_Billion\", \"MC_EUR_Billion\", \"MC_INR_Billion\"]\n",
    "db_name = 'Banks.db'\n",
    "table_name = 'Largest_banks'\n",
    "csv_path = './Largest_banks_data.csv'\n",
    "log_file = 'code_log.txt'\n",
    "exchange_rate_url = 'https://cf-courses-data.s3.us.cloud-object-storage.appdomain.cloud/IBMSkillsNetwork-PY0221EN-Coursera/labs/v2/exchange_rate.csv'\n",
    "\n",
    "def log_progress(message): \n",
    "    timestamp_format = '%Y-%h-%d-%H:%M:%S' # Year-Monthname-Day-Hour-Minute-Second \n",
    "    now = datetime.now() # get current timestamp \n",
    "    timestamp = now.strftime(timestamp_format) \n",
    "    with open(\"./code_log.txt\",\"a\") as f: \n",
    "        f.write(timestamp + ' : ' + message + '\\n')\n",
    "\n",
    "def extract(url, table_attribs):\n",
    "    page = requests.get(url).text\n",
    "    soup = BeautifulSoup(page, 'html.parser')\n",
    "    tables = soup.find_all('table')\n",
    "    target_table = tables[0]\n",
    "    rows = target_table.find_all('tr')\n",
    "    data_list = []\n",
    "    for row in rows:\n",
    "        cols = row.find_all('td')\n",
    "        if len(cols) != 0:  # Omitir encabezados o filas vacías\n",
    "            data_dict = {\n",
    "                \"Name\": cols[1].text.strip(),  # Nombre del banco\n",
    "                \"MC_USD_Billion\": cols[2].text.strip()  # Market cap en USD\n",
    "            }\n",
    "            data_list.append(data_dict)\n",
    "    df = pd.DataFrame(data_list, columns=table_attribs)\n",
    "    return df\n",
    "\n",
    "def transform(df, exchange_rate_url):\n",
    "    exchange_rates_df = pd.read_csv(exchange_rate_url)\n",
    "    exchange_rate = dict(zip(exchange_rates_df['Currency'], exchange_rates_df['Rate']))\n",
    "    df['MC_USD_Billion'] = pd.to_numeric(df['MC_USD_Billion'], errors='coerce')\n",
    "    df['MC_GBP_Billion'] = [np.round(x * exchange_rate['GBP'], 2) for x in df['MC_USD_Billion'].fillna(0)]\n",
    "    df['MC_EUR_Billion'] = [np.round(x * exchange_rate['EUR'], 2) for x in df['MC_USD_Billion'].fillna(0)]\n",
    "    df['MC_INR_Billion'] = [np.round(x * exchange_rate['INR'], 2) for x in df['MC_USD_Billion'].fillna(0)]\n",
    "    log_progress(\"Transformación de datos completada - Nuevas columnas agregadas\")  \n",
    "    return df\n",
    "\n",
    "def load_to_csv(df, csv_path):\n",
    "    df.to_csv(csv_path, index=False)\n",
    "    log_progress(\"Datos cargados correctamente en el archivo CSV.\")\n",
    "\n",
    "def load_to_db(conn, table_name, df):\n",
    "    try:\n",
    "        df.to_sql(table_name, conn, if_exists='replace', index=False)\n",
    "        log_progress(\"Datos cargados correctamente en la base de datos SQLite3.\")\n",
    "        print(\"Carga completada en la base de datos SQLite3.\")\n",
    "    except Exception as e:\n",
    "        log_progress(f\"Error al cargar en la base de datos: {str(e)}\")\n",
    "        print(f\"Error al cargar en la base de datos: {str(e)}\")\n",
    "\n",
    "def run_queries(query, conn):\n",
    "    try:\n",
    "        result = conn.execute(query).fetchall()\n",
    "        log_progress(f\"Ejecutando consulta: {query}\")\n",
    "        print(f\"\\nConsulta: {query}\")\n",
    "        print(\"Resultado:\")\n",
    "        for row in result:\n",
    "            print(row)\n",
    "    except Exception as e:\n",
    "        log_progress(f\"Error al ejecutar la consulta: {str(e)}\")\n",
    "        print(f\"Error: {str(e)}\")"
   ]
  },
  {
   "cell_type": "markdown",
   "id": "97d976ce-a696-470e-8d40-0379e3fecac6",
   "metadata": {},
   "source": [
    "*-----------------------------------------------*"
   ]
  },
  {
   "cell_type": "markdown",
   "id": "e03b456f-55df-4ee5-94ca-9726599659f7",
   "metadata": {},
   "source": [
    "*-----------------------------------------------*"
   ]
  },
  {
   "cell_type": "markdown",
   "id": "60ebf34f-1795-4cc9-bc14-a342a6bcbc36",
   "metadata": {},
   "source": [
    "*PROBAR FUNCIONES DE A UNO*"
   ]
  },
  {
   "cell_type": "code",
   "execution_count": 35,
   "id": "5880a8ba-a250-4903-97a1-cf2c87cb7fb5",
   "metadata": {},
   "outputs": [
    {
     "name": "stdout",
     "output_type": "stream",
     "text": [
      "Mensajes de progreso registrados en 'code_log.txt'\n"
     ]
    }
   ],
   "source": [
    "# Probar log_progress\n",
    "log_progress(\"Prueba de progreso - Inicio de prueba\")\n",
    "log_progress(\"Prueba de progreso - Fin de prueba\")\n",
    "print(\"Mensajes de progreso registrados en 'code_log.txt'\")\n"
   ]
  },
  {
   "cell_type": "markdown",
   "id": "d2caf8e9-2902-4191-9e2e-d994d9979729",
   "metadata": {},
   "source": [
    "*-----------------------------------------------*"
   ]
  },
  {
   "cell_type": "markdown",
   "id": "543f690f-e7fe-423c-8180-81c850f5e3af",
   "metadata": {},
   "source": [
    "*-----------------------------------------------*"
   ]
  },
  {
   "cell_type": "code",
   "execution_count": 36,
   "id": "9c125ee0-e458-45f4-827a-b0e53fe9bbe6",
   "metadata": {},
   "outputs": [
    {
     "name": "stdout",
     "output_type": "stream",
     "text": [
      "Extracción completada. Aquí están las primeras filas de los datos:\n",
      "                                      Name MC_USD_Billion\n",
      "0                           JPMorgan Chase         432.92\n",
      "1                          Bank of America         231.52\n",
      "2  Industrial and Commercial Bank of China         194.56\n",
      "3               Agricultural Bank of China         160.68\n",
      "4                                HDFC Bank         157.91\n"
     ]
    }
   ],
   "source": [
    "# Probar extract\n",
    "test_df = extract('https://web.archive.org/web/20230908091635/https://en.wikipedia.org/wiki/List_of_largest_banks', [\"Name\", \"MC_USD_Billion\"])\n",
    "print(\"Extracción completada. Aquí están las primeras filas de los datos:\")\n",
    "print(test_df.head())  # Mostrar las primeras filas para validar"
   ]
  },
  {
   "cell_type": "markdown",
   "id": "d95e3f1d-9931-4090-8bca-7d1de0536800",
   "metadata": {},
   "source": [
    "*-----------------------------------------------*"
   ]
  },
  {
   "cell_type": "markdown",
   "id": "7ce1cbb3-be20-4c5f-a8c4-1beb19e926ba",
   "metadata": {},
   "source": [
    "*-----------------------------------------------*"
   ]
  },
  {
   "cell_type": "code",
   "execution_count": 37,
   "id": "c0f38521-3115-48f6-bf9d-5e1c872a2114",
   "metadata": {},
   "outputs": [
    {
     "name": "stdout",
     "output_type": "stream",
     "text": [
      "                                      Name  MC_USD_Billion  MC_GBP_Billion  \\\n",
      "0                           JPMorgan Chase          432.92          346.34   \n",
      "1                          Bank of America          231.52          185.22   \n",
      "2  Industrial and Commercial Bank of China          194.56          155.65   \n",
      "3               Agricultural Bank of China          160.68          128.54   \n",
      "4                                HDFC Bank          157.91          126.33   \n",
      "\n",
      "   MC_EUR_Billion  MC_INR_Billion  \n",
      "0          402.62        35910.71  \n",
      "1          215.31        19204.58  \n",
      "2          180.94        16138.75  \n",
      "3          149.43        13328.41  \n",
      "4          146.86        13098.63  \n"
     ]
    }
   ],
   "source": [
    "# Llamar a la función transform\n",
    "df_transformed = transform(test_df, exchange_rate_url)\n",
    "print(df_transformed.head())"
   ]
  },
  {
   "cell_type": "markdown",
   "id": "90c53c42-de94-4f44-af4d-11cd0cfe2a9a",
   "metadata": {},
   "source": [
    "*-----------------------------------------------*"
   ]
  },
  {
   "cell_type": "markdown",
   "id": "e3675fce-8fdd-41b4-8a78-fa714761b9f1",
   "metadata": {},
   "source": [
    "*-----------------------------------------------*"
   ]
  },
  {
   "cell_type": "code",
   "execution_count": 38,
   "id": "f4765392-91e4-46f9-8211-ef8aa0b4c799",
   "metadata": {},
   "outputs": [
    {
     "name": "stdout",
     "output_type": "stream",
     "text": [
      "Datos guardados en ./Largest_banks_data.csv\n"
     ]
    }
   ],
   "source": [
    "# Llamar a la función para cargar los datos transformados a un archivo CSV\n",
    "load_to_csv(df_transformed, csv_path)\n",
    "# Imprimir un mensaje para verificar\n",
    "print(f\"Datos guardados en {csv_path}\")"
   ]
  },
  {
   "cell_type": "markdown",
   "id": "74de5472-ce0e-47db-abfa-ec9f99163700",
   "metadata": {},
   "source": [
    "*-----------------------------------------------*"
   ]
  },
  {
   "cell_type": "markdown",
   "id": "f419de95-b0d0-4926-8382-4f29d4370a6f",
   "metadata": {},
   "source": [
    "*-----------------------------------------------*"
   ]
  },
  {
   "cell_type": "code",
   "execution_count": 40,
   "id": "79c6faf1-7352-45f6-a29c-10aee493a415",
   "metadata": {},
   "outputs": [
    {
     "name": "stdout",
     "output_type": "stream",
     "text": [
      "Carga completada en la base de datos SQLite3.\n",
      "Conexión cerrada con la base de datos SQLite3.\n"
     ]
    }
   ],
   "source": [
    "import sqlite3\n",
    "conn = sqlite3.connect(db_name)  # Usa 'Banks.db' como se menciona en la tarea\n",
    "load_to_db(conn, table_name, df_transformed)\n",
    "conn.close()\n",
    "print(\"Conexión cerrada con la base de datos SQLite3.\")"
   ]
  },
  {
   "cell_type": "markdown",
   "id": "1e5d0ddb-74a5-49ac-9483-09603029a46f",
   "metadata": {},
   "source": [
    "*-----------------------------------------------*"
   ]
  },
  {
   "cell_type": "markdown",
   "id": "8f1cac84-8ed6-4bef-b932-e7dd4866372c",
   "metadata": {},
   "source": [
    "*-----------------------------------------------*"
   ]
  },
  {
   "cell_type": "code",
   "execution_count": 42,
   "id": "47143661-8225-46d5-bf57-7e3bce88c3b5",
   "metadata": {},
   "outputs": [
    {
     "name": "stdout",
     "output_type": "stream",
     "text": [
      "\n",
      "Consulta: SELECT * FROM Largest_banks\n",
      "Resultado:\n",
      "('JPMorgan Chase', 432.92, 346.34, 402.62, 35910.71)\n",
      "('Bank of America', 231.52, 185.22, 215.31, 19204.58)\n",
      "('Industrial and Commercial Bank of China', 194.56, 155.65, 180.94, 16138.75)\n",
      "('Agricultural Bank of China', 160.68, 128.54, 149.43, 13328.41)\n",
      "('HDFC Bank', 157.91, 126.33, 146.86, 13098.63)\n",
      "('Wells Fargo', 155.87, 124.7, 144.96, 12929.42)\n",
      "('HSBC Holdings PLC', 148.9, 119.12, 138.48, 12351.26)\n",
      "('Morgan Stanley', 140.83, 112.66, 130.97, 11681.85)\n",
      "('China Construction Bank', 139.82, 111.86, 130.03, 11598.07)\n",
      "('Bank of China', 136.81, 109.45, 127.23, 11348.39)\n",
      "\n",
      "Consulta: SELECT AVG(MC_GBP_Billion) FROM Largest_banks\n",
      "Resultado:\n",
      "(151.987,)\n",
      "\n",
      "Consulta: SELECT Name FROM Largest_banks LIMIT 5\n",
      "Resultado:\n",
      "('JPMorgan Chase',)\n",
      "('Bank of America',)\n",
      "('Industrial and Commercial Bank of China',)\n",
      "('Agricultural Bank of China',)\n",
      "('HDFC Bank',)\n",
      "\n",
      "Conexión cerrada con la base de datos SQLite3.\n"
     ]
    }
   ],
   "source": [
    "# Crear la conexión a la base de datos SQLite3\n",
    "conn = sqlite3.connect(db_name)\n",
    "\n",
    "# Consulta 1: Imprimir todo el contenido de la tabla Largest_banks\n",
    "query_1 = \"SELECT * FROM Largest_banks\"\n",
    "run_queries(query_1, conn)\n",
    "\n",
    "# Consulta 2: Imprimir la capitalización de mercado promedio en mil millones de GBP\n",
    "query_2 = \"SELECT AVG(MC_GBP_Billion) FROM Largest_banks\"\n",
    "run_queries(query_2, conn)\n",
    "\n",
    "# Consulta 3: Imprimir solo los nombres de los 5 principales bancos\n",
    "query_3 = \"SELECT Name FROM Largest_banks LIMIT 5\"\n",
    "run_queries(query_3, conn)\n",
    "\n",
    "# Cerrar la conexión a la base de datos después de ejecutar las consultas\n",
    "conn.close()\n",
    "print(\"\\nConexión cerrada con la base de datos SQLite3.\")\n"
   ]
  },
  {
   "cell_type": "markdown",
   "id": "b1628446-98d9-480b-9dfb-4f7c19a4b426",
   "metadata": {},
   "source": [
    "*-----------------------------------------------*"
   ]
  },
  {
   "cell_type": "markdown",
   "id": "4149d96b-d3f0-40e6-9bf3-344f8c3857b1",
   "metadata": {},
   "source": [
    "*-----------------------------------------------*"
   ]
  },
  {
   "cell_type": "markdown",
   "id": "47896688-a643-4c8e-889d-65444c3aab2a",
   "metadata": {},
   "source": [
    "*LOG*"
   ]
  },
  {
   "cell_type": "code",
   "execution_count": 44,
   "id": "cb3cf300-9b93-4ee3-8b0b-ed6a1a7934cb",
   "metadata": {},
   "outputs": [
    {
     "name": "stdout",
     "output_type": "stream",
     "text": [
      "Carga completada en la base de datos SQLite3.\n",
      "\n",
      "Consulta: SELECT * FROM Largest_banks\n",
      "Resultado:\n",
      "('JPMorgan Chase', 432.92, 346.34, 402.62, 35910.71)\n",
      "('Bank of America', 231.52, 185.22, 215.31, 19204.58)\n",
      "('Industrial and Commercial Bank of China', 194.56, 155.65, 180.94, 16138.75)\n",
      "('Agricultural Bank of China', 160.68, 128.54, 149.43, 13328.41)\n",
      "('HDFC Bank', 157.91, 126.33, 146.86, 13098.63)\n",
      "('Wells Fargo', 155.87, 124.7, 144.96, 12929.42)\n",
      "('HSBC Holdings PLC', 148.9, 119.12, 138.48, 12351.26)\n",
      "('Morgan Stanley', 140.83, 112.66, 130.97, 11681.85)\n",
      "('China Construction Bank', 139.82, 111.86, 130.03, 11598.07)\n",
      "('Bank of China', 136.81, 109.45, 127.23, 11348.39)\n",
      "\n",
      "Consulta: SELECT AVG(MC_USD_Billion) FROM Largest_banks\n",
      "Resultado:\n",
      "(189.98200000000003,)\n",
      "\n",
      "Consulta: SELECT Name FROM Largest_banks LIMIT 5\n",
      "Resultado:\n",
      "('JPMorgan Chase',)\n",
      "('Bank of America',)\n",
      "('Industrial and Commercial Bank of China',)\n",
      "('Agricultural Bank of China',)\n",
      "('HDFC Bank',)\n"
     ]
    }
   ],
   "source": [
    "log_progress('Preliminaries complete. Initiating ETL process')\n",
    "\n",
    "df = extract(url, table_attribs)\n",
    "log_progress('Data extraction complete. Initiating Transformation process')\n",
    "\n",
    "df = transform(df, exchange_rate_url)\n",
    "log_progress('Data transformation complete. Initiating loading process')\n",
    "\n",
    "load_to_csv(df, csv_path)\n",
    "log_progress('Data saved to CSV file')\n",
    "\n",
    "sql_connection = sqlite3.connect('Banks.db')\n",
    "log_progress('SQL Connection initiated.')\n",
    "\n",
    "load_to_db(sql_connection, table_name, df)\n",
    "log_progress('Data loaded to Database as table. Running the query')\n",
    "\n",
    "query_statement_1 = f\"SELECT * FROM {table_name}\"\n",
    "query_statement_2 = f\"SELECT AVG(MC_USD_Billion) FROM {table_name}\"\n",
    "query_statement_3 = f\"SELECT Name FROM {table_name} LIMIT 5\"\n",
    "\n",
    "run_queries(query_statement_1, sql_connection)\n",
    "run_queries(query_statement_2, sql_connection)\n",
    "run_queries(query_statement_3, sql_connection)\n",
    "\n",
    "log_progress('Process Complete.')\n",
    "\n",
    "sql_connection.close()\n",
    "log_progress('SQL Connection closed.')"
   ]
  },
  {
   "cell_type": "code",
   "execution_count": null,
   "id": "e5bbd7e1-a7a9-4087-b982-54f5fee4a9c5",
   "metadata": {},
   "outputs": [],
   "source": []
  }
 ],
 "metadata": {
  "kernelspec": {
   "display_name": "Python 3 (ipykernel)",
   "language": "python",
   "name": "python3"
  },
  "language_info": {
   "codemirror_mode": {
    "name": "ipython",
    "version": 3
   },
   "file_extension": ".py",
   "mimetype": "text/x-python",
   "name": "python",
   "nbconvert_exporter": "python",
   "pygments_lexer": "ipython3",
   "version": "3.12.6"
  }
 },
 "nbformat": 4,
 "nbformat_minor": 5
}
